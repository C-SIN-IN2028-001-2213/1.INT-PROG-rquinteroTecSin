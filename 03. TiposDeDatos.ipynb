{
  "cells": [
    {
      "cell_type": "markdown",
      "metadata": {
        "id": "view-in-github",
        "colab_type": "text"
      },
      "source": [
        "<a href=\"https://colab.research.google.com/github/C-SIN-IN2028-001-2213/1.INT-PROG-rquinteroTecSin/blob/main/03.%20TiposDeDatos.ipynb\" target=\"_parent\"><img src=\"https://colab.research.google.com/assets/colab-badge.svg\" alt=\"Open In Colab\"/></a>"
      ]
    },
    {
      "cell_type": "markdown",
      "metadata": {
        "id": "NfRUie49z3Hv"
      },
      "source": [
        "# Tipos de Datos\n",
        "\n",
        "En este JNB se revisará el tema de Tipos de Datos en Python"
      ]
    },
    {
      "cell_type": "markdown",
      "source": [
        "# Enteros\n",
        "\n",
        "Python permite manejar datos de tipo Entero"
      ],
      "metadata": {
        "id": "6rYaVkoA1SwZ"
      }
    },
    {
      "cell_type": "code",
      "execution_count": 1,
      "metadata": {
        "id": "O8NoTzxjs2wK",
        "outputId": "177595f8-6465-4f6e-d795-248ba26a2119",
        "colab": {
          "base_uri": "https://localhost:8080/"
        }
      },
      "outputs": [
        {
          "output_type": "stream",
          "name": "stdout",
          "text": [
            "14\n",
            "<class 'int'>\n"
          ]
        }
      ],
      "source": [
        "x = 14\n",
        "\n",
        "print(x)\n",
        "print(type(x))"
      ]
    },
    {
      "cell_type": "markdown",
      "source": [
        "# Flotantes\n",
        "\n",
        "Son los números con decimales, o números reales"
      ],
      "metadata": {
        "id": "0Mq7xUVi1x1V"
      }
    },
    {
      "cell_type": "code",
      "source": [
        "nearly_pi = 3.141592653589793238462643383279502884197169399375105820974944\n",
        "\n",
        "print(nearly_pi)\n",
        "print(type(nearly_pi))"
      ],
      "metadata": {
        "id": "DWfCDMlr11lV",
        "outputId": "f0e23c7f-2b79-4a92-c30b-766216d91849",
        "colab": {
          "base_uri": "https://localhost:8080/"
        }
      },
      "execution_count": 2,
      "outputs": [
        {
          "output_type": "stream",
          "name": "stdout",
          "text": [
            "3.141592653589793\n",
            "<class 'float'>\n"
          ]
        }
      ]
    },
    {
      "cell_type": "code",
      "source": [
        "almost_pi = 22/7\n",
        "print(almost_pi)\n",
        "print(type(almost_pi))"
      ],
      "metadata": {
        "id": "V403CU3l2FlT",
        "outputId": "9940ee36-fdb5-4ca4-fc68-ebc68725e725",
        "colab": {
          "base_uri": "https://localhost:8080/"
        }
      },
      "execution_count": 3,
      "outputs": [
        {
          "output_type": "stream",
          "name": "stdout",
          "text": [
            "3.142857142857143\n",
            "<class 'float'>\n"
          ]
        }
      ]
    },
    {
      "cell_type": "code",
      "source": [
        "# Round to 5 decimal places\n",
        "rounded_pi = round(almost_pi, 5)\n",
        "\n",
        "print(rounded_pi)\n",
        "print(type(rounded_pi))"
      ],
      "metadata": {
        "id": "aCHsQqcv2PJR",
        "outputId": "e2c2866f-2189-44eb-ea87-dfe0f84293ac",
        "colab": {
          "base_uri": "https://localhost:8080/"
        }
      },
      "execution_count": 4,
      "outputs": [
        {
          "output_type": "stream",
          "name": "stdout",
          "text": [
            "3.14286\n",
            "<class 'float'>\n"
          ]
        }
      ]
    },
    {
      "cell_type": "code",
      "source": [
        "y_float = 1.\n",
        "\n",
        "print(y_float)\n",
        "print(type(y_float))"
      ],
      "metadata": {
        "id": "dpaOAevc2b_Z",
        "outputId": "bf09d522-1e5b-4ea1-e5db-d8b4ce7fe5bf",
        "colab": {
          "base_uri": "https://localhost:8080/"
        }
      },
      "execution_count": 5,
      "outputs": [
        {
          "output_type": "stream",
          "name": "stdout",
          "text": [
            "1.0\n",
            "<class 'float'>\n"
          ]
        }
      ]
    },
    {
      "cell_type": "markdown",
      "source": [
        "# Booleans\n",
        "\n",
        "Es un tipo de dato que puede tomar sólo un varlor True o False"
      ],
      "metadata": {
        "id": "LHPvS-TL8JKa"
      }
    },
    {
      "cell_type": "code",
      "source": [
        "z_one = True\n",
        "\n",
        "print(z_one)\n",
        "print(type(z_one))"
      ],
      "metadata": {
        "id": "zLzhH24B8PCU",
        "outputId": "9f530b69-69c9-4f76-be7c-3ec8a5bbb352",
        "colab": {
          "base_uri": "https://localhost:8080/"
        }
      },
      "execution_count": 6,
      "outputs": [
        {
          "output_type": "stream",
          "name": "stdout",
          "text": [
            "True\n",
            "<class 'bool'>\n"
          ]
        }
      ]
    },
    {
      "cell_type": "code",
      "source": [
        "z_two = False\n",
        "\n",
        "print(z_two)\n",
        "print(type(z_two))"
      ],
      "metadata": {
        "id": "RKBNrLG68diP"
      },
      "execution_count": null,
      "outputs": []
    },
    {
      "cell_type": "code",
      "source": [
        "z_three = (1 < 2)\n",
        "\n",
        "print(z_three)\n",
        "print(type(z_three))"
      ],
      "metadata": {
        "id": "fVFNwPls8vXP",
        "outputId": "b0016cda-709a-4197-b2d3-1c237dff1e26",
        "colab": {
          "base_uri": "https://localhost:8080/"
        }
      },
      "execution_count": 7,
      "outputs": [
        {
          "output_type": "stream",
          "name": "stdout",
          "text": [
            "True\n",
            "<class 'bool'>\n"
          ]
        }
      ]
    },
    {
      "cell_type": "markdown",
      "source": [
        "# Strings\n",
        "\n",
        "Es un tipo de dato que es una secuencia de caracteres. Se utiliza para manejar letreros o mensajes en la programación."
      ],
      "metadata": {
        "id": "oGDPum4R94-R"
      }
    },
    {
      "cell_type": "code",
      "source": [
        "w = \"Hello, Python!\"\n",
        "\n",
        "print(w)\n",
        "print(type(w))"
      ],
      "metadata": {
        "id": "XHAUcxHV-IRu",
        "outputId": "730a273f-783a-4011-951b-80c7872524c5",
        "colab": {
          "base_uri": "https://localhost:8080/"
        }
      },
      "execution_count": 8,
      "outputs": [
        {
          "output_type": "stream",
          "name": "stdout",
          "text": [
            "Hello, Python!\n",
            "<class 'str'>\n"
          ]
        }
      ]
    },
    {
      "cell_type": "code",
      "source": [
        "print(len(w))"
      ],
      "metadata": {
        "id": "8BnvjGYJ-iWv",
        "outputId": "96aa1a8c-39d7-40d0-f865-8bd90a02f363",
        "colab": {
          "base_uri": "https://localhost:8080/"
        }
      },
      "execution_count": 9,
      "outputs": [
        {
          "output_type": "stream",
          "name": "stdout",
          "text": [
            "14\n"
          ]
        }
      ]
    },
    {
      "cell_type": "code",
      "source": [
        "shortest_string = \"\"\n",
        "\n",
        "print(type(shortest_string))\n",
        "print(len(shortest_string))"
      ],
      "metadata": {
        "id": "lUYBHM2r-yL-",
        "outputId": "f84dd981-81e7-4fe0-ffdf-bb288beca1a6",
        "colab": {
          "base_uri": "https://localhost:8080/"
        }
      },
      "execution_count": 10,
      "outputs": [
        {
          "output_type": "stream",
          "name": "stdout",
          "text": [
            "<class 'str'>\n",
            "0\n"
          ]
        }
      ]
    },
    {
      "cell_type": "code",
      "source": [
        "my_number = \"1.12321\"\n",
        "\n",
        "print(my_number)\n",
        "print(type(my_number))"
      ],
      "metadata": {
        "id": "SbOiReyt_DIC",
        "outputId": "a7511a95-ede6-4b59-d84b-cb289ba3a44a",
        "colab": {
          "base_uri": "https://localhost:8080/"
        }
      },
      "execution_count": 11,
      "outputs": [
        {
          "output_type": "stream",
          "name": "stdout",
          "text": [
            "1.12321\n",
            "<class 'str'>\n"
          ]
        }
      ]
    },
    {
      "cell_type": "code",
      "source": [
        "also_my_number = float(my_number)\n",
        "\n",
        "print(also_my_number)\n",
        "print(type(also_my_number))"
      ],
      "metadata": {
        "id": "z23lUwPN_l5G",
        "outputId": "85473ad6-c5aa-4915-d7f9-7a54dfd5fb71",
        "colab": {
          "base_uri": "https://localhost:8080/"
        }
      },
      "execution_count": 12,
      "outputs": [
        {
          "output_type": "stream",
          "name": "stdout",
          "text": [
            "1.12321\n",
            "<class 'float'>\n"
          ]
        }
      ]
    },
    {
      "cell_type": "code",
      "source": [
        "new_string = \"abc\" + \"def\"\n",
        "\n",
        "print(new_string)\n",
        "print(type(new_string))"
      ],
      "metadata": {
        "id": "Z02vdcMi_3JB",
        "outputId": "f0dcbac8-edc4-470f-a581-c40ed578da07",
        "colab": {
          "base_uri": "https://localhost:8080/"
        }
      },
      "execution_count": 13,
      "outputs": [
        {
          "output_type": "stream",
          "name": "stdout",
          "text": [
            "abcdef\n",
            "<class 'str'>\n"
          ]
        }
      ]
    },
    {
      "cell_type": "code",
      "source": [
        "newest_string = \"abc\" * 3\n",
        "\n",
        "print(newest_string)\n",
        "print(type(newest_string))"
      ],
      "metadata": {
        "id": "YUZdHzoXANPt",
        "outputId": "f7607a28-c481-45e6-b51d-19579a29316a",
        "colab": {
          "base_uri": "https://localhost:8080/"
        }
      },
      "execution_count": 14,
      "outputs": [
        {
          "output_type": "stream",
          "name": "stdout",
          "text": [
            "abcabcabc\n",
            "<class 'str'>\n"
          ]
        }
      ]
    }
  ],
  "metadata": {
    "colab": {
      "provenance": [],
      "include_colab_link": true
    },
    "kernelspec": {
      "display_name": "Python 3.10.7 64-bit",
      "language": "python",
      "name": "python3"
    },
    "language_info": {
      "codemirror_mode": {
        "name": "ipython",
        "version": 3
      },
      "file_extension": ".py",
      "mimetype": "text/x-python",
      "name": "python",
      "nbconvert_exporter": "python",
      "pygments_lexer": "ipython3",
      "version": "3.10.7"
    },
    "orig_nbformat": 4,
    "vscode": {
      "interpreter": {
        "hash": "eb4a0ac80907d7f44e1a5e88d3d3381b33e3dbedd3a24d113e876f30a0c46bee"
      }
    }
  },
  "nbformat": 4,
  "nbformat_minor": 0
}