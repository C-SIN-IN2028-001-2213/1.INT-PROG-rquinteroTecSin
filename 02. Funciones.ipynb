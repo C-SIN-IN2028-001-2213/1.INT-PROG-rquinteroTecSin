{
  "cells": [
    {
      "cell_type": "markdown",
      "metadata": {
        "id": "view-in-github",
        "colab_type": "text"
      },
      "source": [
        "<a href=\"https://colab.research.google.com/github/C-SIN-IN2028-001-2213/1.INT-PROG-rquinteroTecSin/blob/main/02.%20Funciones.ipynb\" target=\"_parent\"><img src=\"https://colab.research.google.com/assets/colab-badge.svg\" alt=\"Open In Colab\"/></a>"
      ]
    },
    {
      "cell_type": "markdown",
      "metadata": {
        "id": "7FZc0gOsBZdP"
      },
      "source": [
        "# Funciones\n",
        "\n",
        "En este JNB se revisará el tema de Funciones en Python"
      ]
    },
    {
      "cell_type": "code",
      "execution_count": 1,
      "metadata": {
        "id": "O8NoTzxjs2wK"
      },
      "outputs": [],
      "source": [
        "# Define the function\n",
        "def add_three(input_var):\n",
        "    output_var = input_var + 3\n",
        "    return output_var"
      ]
    },
    {
      "cell_type": "code",
      "source": [
        "# Run the function with 10 as input\n",
        "new_number = add_three(10)\n",
        "\n",
        "# Check that the value is 13, as expected\n",
        "print(new_number)"
      ],
      "metadata": {
        "id": "yHGTiJB6CkpG",
        "outputId": "aee103f0-e03f-4e6b-a93a-ed0b0c483a32",
        "colab": {
          "base_uri": "https://localhost:8080/"
        }
      },
      "execution_count": 2,
      "outputs": [
        {
          "output_type": "stream",
          "name": "stdout",
          "text": [
            "13\n"
          ]
        }
      ]
    },
    {
      "cell_type": "code",
      "source": [
        "def get_pay(num_hours):\n",
        "\n",
        "    # Pre-tax pay, based on receiving $15/hour\n",
        "    pay_pretax = num_hours * 15\n",
        "\n",
        "    # After-tax pay, based on being in 12% tax bracket\n",
        "    pay_aftertax = pay_pretax * (1 - .12)\n",
        "    return pay_aftertax\n",
        "\n",
        "# Calculate pay based on working 40 hours\n",
        "pay_fulltime = get_pay(40)\n",
        "print(pay_fulltime)"
      ],
      "metadata": {
        "id": "6dNRsgo4DvQ_",
        "outputId": "c4f04c70-4953-476c-9658-18b9f5e806b5",
        "colab": {
          "base_uri": "https://localhost:8080/"
        }
      },
      "execution_count": 3,
      "outputs": [
        {
          "output_type": "stream",
          "name": "stdout",
          "text": [
            "528.0\n"
          ]
        }
      ]
    },
    {
      "cell_type": "code",
      "source": [
        "def get_pay_with_more_inputs(num_hours, hourly_wage, tax_bracket):\n",
        "    # Pre-tax pay\n",
        "    pay_pretax = num_hours * hourly_wage\n",
        "    # After-tax pay\n",
        "    pay_aftertax = pay_pretax * (1 - tax_bracket)\n",
        "    return pay_aftertax"
      ],
      "metadata": {
        "id": "XP8958NaD6J0"
      },
      "execution_count": 4,
      "outputs": []
    },
    {
      "cell_type": "code",
      "source": [
        "higher_pay_aftertax = get_pay_with_more_inputs(40, 24, .22)\n",
        "print(higher_pay_aftertax)"
      ],
      "metadata": {
        "id": "DXiAQND9FATE",
        "outputId": "42d181dc-9b4e-460b-931d-2585afccb66c",
        "colab": {
          "base_uri": "https://localhost:8080/"
        }
      },
      "execution_count": 5,
      "outputs": [
        {
          "output_type": "stream",
          "name": "stdout",
          "text": [
            "748.8000000000001\n"
          ]
        }
      ]
    },
    {
      "cell_type": "code",
      "source": [
        "# Define the function with no arguments and with no return\n",
        "def print_hello():\n",
        "    print(\"Hello, you!\")\n",
        "    print(\"Good morning!\")\n",
        "    \n",
        "# Call the function\n",
        "print_hello()"
      ],
      "metadata": {
        "id": "ZzM1d3-my3W0",
        "outputId": "9ad2daa4-5bec-4354-f93b-657a249a15a0",
        "colab": {
          "base_uri": "https://localhost:8080/"
        }
      },
      "execution_count": 6,
      "outputs": [
        {
          "output_type": "stream",
          "name": "stdout",
          "text": [
            "Hello, you!\n",
            "Good morning!\n"
          ]
        }
      ]
    }
  ],
  "metadata": {
    "colab": {
      "provenance": [],
      "include_colab_link": true
    },
    "kernelspec": {
      "display_name": "Python 3.10.7 64-bit",
      "language": "python",
      "name": "python3"
    },
    "language_info": {
      "codemirror_mode": {
        "name": "ipython",
        "version": 3
      },
      "file_extension": ".py",
      "mimetype": "text/x-python",
      "name": "python",
      "nbconvert_exporter": "python",
      "pygments_lexer": "ipython3",
      "version": "3.10.7"
    },
    "orig_nbformat": 4,
    "vscode": {
      "interpreter": {
        "hash": "eb4a0ac80907d7f44e1a5e88d3d3381b33e3dbedd3a24d113e876f30a0c46bee"
      }
    }
  },
  "nbformat": 4,
  "nbformat_minor": 0
}